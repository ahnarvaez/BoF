{
 "cells": [
  {
   "cell_type": "markdown",
   "metadata": {},
   "source": [
    "## Ejemplo de uso de la implementacion de TSBF  en Python."
   ]
  },
  {
   "cell_type": "code",
   "execution_count": 1,
   "metadata": {},
   "outputs": [],
   "source": [
    "import numpy as np\n",
    "from BoF import BoF"
   ]
  },
  {
   "cell_type": "markdown",
   "metadata": {},
   "source": [
    "### cargando dataset"
   ]
  },
  {
   "cell_type": "code",
   "execution_count": 2,
   "metadata": {},
   "outputs": [],
   "source": [
    "basededatos=\"CBF\"\n",
    "\n",
    "st=\"/home/misero/machine/datasets/\"+basededatos+\"/\"+basededatos+\"_TRAIN.txt\"    \n",
    "data=np.genfromtxt(st,delimiter='  ')\n",
    "Y=data[:,0].astype(np.int)\n",
    "X=data[:,1:(data.shape[1])]    \n",
    "data=None\n",
    "\n",
    "st_t=\"/home/misero/machine/datasets/\"+basededatos+\"/\"+basededatos+\"_TEST.txt\"    \n",
    "data_test=np.genfromtxt(st_t,delimiter='  ')\n",
    "Y_test=data_test[:,0].astype(np.int) \n",
    "X_test=data_test[:,1:(data_test.shape[1])]    \n",
    "data_test=None"
   ]
  },
  {
   "cell_type": "markdown",
   "metadata": {},
   "source": [
    "### entrenando clasificador\n",
    "\n",
    "## uso:\n",
    "BoF(d=None, tipo=3, z=.1, w_min=5, b=10, n_clases=None, ntree=50, njobs=2, clf=\"RandomForest\", mid=0)\n",
    "\n",
    "\n",
    "    d = numero de intervalos en una subsección: (si no se define se calcular a partir de la primera serie de tiempo)\n",
    "    tipo = tipo de ventana: \n",
    "    \n",
    "        1: ventanas aleatorias, pero en las mismas posiciones en train y test.\n",
    "        2: Ventanas del mismo tamaño, mismas posición y desplazas y intervalo.\n",
    "        3: completamente aleatorio\n",
    "\n",
    "    w_min = tamaño mínimo del intervalo.\n",
    "\n",
    "    b = numero de grupos para formas la bolsa de palabras\n",
    "\n",
    "    n_clases = numero de clases, la opción default la calcula a partir del conjunto de entrenamiento\n",
    "\n",
    "    ntree = numero de arboles iniciales, y la cantidad que se agregan en cada iteración del entrenamiento.\n",
    "\n",
    "    njobs= cantidad de núcleos a utilizar.\n",
    "\n",
    "    clf= tipo de clasificador a utilizar, opciones:\n",
    "\n",
    "        RandomForest\n",
    "        BaggingClassifier\n",
    "        ExtraTreesClassifier\n",
    "\n",
    "    mid = min_impurity_decrease\n",
    "    \n",
    "## Funciones:\n",
    "fit(Train, Test): Entrena el clasificador\n",
    "\n",
    "predict(): Regresa la predicción de 1 o varias series de tiempo\n",
    "\n",
    "transform(X): Regresa el (o los) histogramas de 1 o varias series de tiempo\n",
    "\n",
    "getHtrain(): Regresa los histogramas de las series de entrenamiento"
   ]
  },
  {
   "cell_type": "code",
   "execution_count": 3,
   "metadata": {},
   "outputs": [],
   "source": [
    "bof=BoF(z=.75, clf=\"RandomForest\", tipo=3, njobs=1)\n",
    "bof.fit(X,Y)\n",
    "prediccion=bof.predict(X_test)\n",
    "\n",
    "from sklearn.metrics import accuracy_score\n",
    "acc=accuracy_score(Y_test,prediccion) "
   ]
  },
  {
   "cell_type": "code",
   "execution_count": 4,
   "metadata": {},
   "outputs": [
    {
     "name": "stdout",
     "output_type": "stream",
     "text": [
      "0.9733333333333334\n"
     ]
    }
   ],
   "source": [
    "print(acc)"
   ]
  },
  {
   "cell_type": "code",
   "execution_count": null,
   "metadata": {},
   "outputs": [],
   "source": []
  }
 ],
 "metadata": {
  "kernelspec": {
   "display_name": "Python 3",
   "language": "python",
   "name": "python3"
  },
  "language_info": {
   "codemirror_mode": {
    "name": "ipython",
    "version": 3
   },
   "file_extension": ".py",
   "mimetype": "text/x-python",
   "name": "python",
   "nbconvert_exporter": "python",
   "pygments_lexer": "ipython3",
   "version": "3.7.1"
  }
 },
 "nbformat": 4,
 "nbformat_minor": 2
}
